{
 "cells": [
  {
   "cell_type": "code",
   "execution_count": 44,
   "metadata": {},
   "outputs": [],
   "source": [
    "import requests\n",
    "import json\n",
    "import time\n",
    "import pandas as pd"
   ]
  },
  {
   "cell_type": "code",
   "execution_count": 47,
   "metadata": {},
   "outputs": [
    {
     "name": "stdout",
     "output_type": "stream",
     "text": [
      "When I look at people I don't see colors; I just see crackpot religions.\n",
      "Chief Wiggum\n"
     ]
    }
   ],
   "source": [
    "resp = requests.get('https://thesimpsonsquoteapi.glitch.me/quotes')\n",
    "\n",
    "frase=resp.json()[0]['quote']\n",
    "personaje=resp.json()[0]['character']\n",
    "\n",
    "Lisa='Lisa Simpson'\n",
    "Homer='Homer Simpson'\n",
    "\n",
    "print (frase)\n",
    "print (personaje)"
   ]
  },
  {
   "cell_type": "code",
   "execution_count": 46,
   "metadata": {},
   "outputs": [],
   "source": [
    "if personaje==Lisa:\n",
    "    d={(f'{frase}' \" \" f'{personaje}')}\n",
    "    df = pd.DataFrame(data=d)\n",
    "    df.to_csv ('ejemplo.csv', mode='a', header=False , index=False)\n",
    "elif personaje == Homer:\n",
    "    d={(f'{frase}' \" \" f'{personaje}')}\n",
    "    df = pd.DataFrame(data=d)\n",
    "    df.to_csv ('ejemplo.csv', mode='a', header=False , index=False)\n",
    "else:\n",
    "    d={(f'{frase}' \" \" f'{personaje}')}\n",
    "    df = pd.DataFrame(data=d)\n",
    "    df.to_csv ('ejemplo.csv', mode='a', header=False , index=False)\n"
   ]
  }
 ],
 "metadata": {
  "kernelspec": {
   "display_name": "Python 3.7.9 64-bit",
   "language": "python",
   "name": "python3"
  },
  "language_info": {
   "codemirror_mode": {
    "name": "ipython",
    "version": 3
   },
   "file_extension": ".py",
   "mimetype": "text/x-python",
   "name": "python",
   "nbconvert_exporter": "python",
   "pygments_lexer": "ipython3",
   "version": "3.7.9"
  },
  "orig_nbformat": 4,
  "vscode": {
   "interpreter": {
    "hash": "98f313b375bd142157bd85247f9cae0a692e725b9cc4cd8be55ca840b47a019b"
   }
  }
 },
 "nbformat": 4,
 "nbformat_minor": 2
}
